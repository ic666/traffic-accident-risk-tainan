{
 "cells": [
  {
   "cell_type": "code",
   "execution_count": 2,
   "metadata": {},
   "outputs": [],
   "source": [
    "import pandas as pd\n",
    "import numpy as np\n",
    "\n",
    "import matplotlib.pyplot as plt\n",
    "\n",
    "import seaborn as sns"
   ]
  },
  {
   "cell_type": "code",
   "execution_count": 3,
   "metadata": {},
   "outputs": [],
   "source": [
    "combined = pd.read_csv(\"combined_new.csv\")"
   ]
  },
  {
   "cell_type": "code",
   "execution_count": 201,
   "metadata": {},
   "outputs": [
    {
     "name": "stderr",
     "output_type": "stream",
     "text": [
      "<ipython-input-201-280c20cafcc0>:6: FutureWarning: The frame.append method is deprecated and will be removed from pandas in a future version. Use pandas.concat instead.\n",
      "  out2=out2.append(out3)\n",
      "<ipython-input-201-280c20cafcc0>:9: FutureWarning: The frame.append method is deprecated and will be removed from pandas in a future version. Use pandas.concat instead.\n",
      "  out1=out1.append(out2)\n",
      "<ipython-input-201-280c20cafcc0>:6: FutureWarning: The frame.append method is deprecated and will be removed from pandas in a future version. Use pandas.concat instead.\n",
      "  out2=out2.append(out3)\n",
      "<ipython-input-201-280c20cafcc0>:9: FutureWarning: The frame.append method is deprecated and will be removed from pandas in a future version. Use pandas.concat instead.\n",
      "  out1=out1.append(out2)\n",
      "<ipython-input-201-280c20cafcc0>:6: FutureWarning: The frame.append method is deprecated and will be removed from pandas in a future version. Use pandas.concat instead.\n",
      "  out2=out2.append(out3)\n",
      "<ipython-input-201-280c20cafcc0>:9: FutureWarning: The frame.append method is deprecated and will be removed from pandas in a future version. Use pandas.concat instead.\n",
      "  out1=out1.append(out2)\n",
      "<ipython-input-201-280c20cafcc0>:6: FutureWarning: The frame.append method is deprecated and will be removed from pandas in a future version. Use pandas.concat instead.\n",
      "  out2=out2.append(out3)\n",
      "<ipython-input-201-280c20cafcc0>:9: FutureWarning: The frame.append method is deprecated and will be removed from pandas in a future version. Use pandas.concat instead.\n",
      "  out1=out1.append(out2)\n",
      "<ipython-input-201-280c20cafcc0>:6: FutureWarning: The frame.append method is deprecated and will be removed from pandas in a future version. Use pandas.concat instead.\n",
      "  out2=out2.append(out3)\n",
      "<ipython-input-201-280c20cafcc0>:9: FutureWarning: The frame.append method is deprecated and will be removed from pandas in a future version. Use pandas.concat instead.\n",
      "  out1=out1.append(out2)\n",
      "<ipython-input-201-280c20cafcc0>:6: FutureWarning: The frame.append method is deprecated and will be removed from pandas in a future version. Use pandas.concat instead.\n",
      "  out2=out2.append(out3)\n",
      "<ipython-input-201-280c20cafcc0>:9: FutureWarning: The frame.append method is deprecated and will be removed from pandas in a future version. Use pandas.concat instead.\n",
      "  out1=out1.append(out2)\n",
      "<ipython-input-201-280c20cafcc0>:6: FutureWarning: The frame.append method is deprecated and will be removed from pandas in a future version. Use pandas.concat instead.\n",
      "  out2=out2.append(out3)\n",
      "<ipython-input-201-280c20cafcc0>:9: FutureWarning: The frame.append method is deprecated and will be removed from pandas in a future version. Use pandas.concat instead.\n",
      "  out1=out1.append(out2)\n"
     ]
    }
   ],
   "source": [
    "for i in range(7):\n",
    "    out1 = combined[combined[\"partition\"]==combined[\"partition\"].value_counts(dropna=False).index[i]][combined[combined[\"partition\"]==combined[\"partition\"].value_counts(dropna=False).index[i]][\"coordinate\"].isin(combined[combined[\"partition\"]==combined[\"partition\"].value_counts(dropna=False).index[i]][\"coordinate\"].value_counts(dropna=False).loc[lambda x : x>12].index)].copy()\n",
    "    out2 = combined[combined[\"partition\"]==combined[\"partition\"].value_counts(dropna=False).index[i]][combined[combined[\"partition\"]==combined[\"partition\"].value_counts(dropna=False).index[i]][\"coordinate\"].isin(combined[combined[\"partition\"]==combined[\"partition\"].value_counts(dropna=False).index[i]][\"coordinate\"].value_counts(dropna=False).loc[lambda x : x>24].index)].copy()\n",
    "    out3 = combined[combined[\"partition\"]==combined[\"partition\"].value_counts(dropna=False).index[i]][combined[combined[\"partition\"]==combined[\"partition\"].value_counts(dropna=False).index[i]][\"coordinate\"].isin(combined[combined[\"partition\"]==combined[\"partition\"].value_counts(dropna=False).index[i]][\"coordinate\"].value_counts(dropna=False).loc[lambda x : x>36].index)].copy()\n",
    "    \n",
    "    out2=out2.append(out3)\n",
    "    out2=out2.drop_duplicates(keep=False)\n",
    "    \n",
    "    out1=out1.append(out2)\n",
    "    out1=out1.drop_duplicates(keep=False)\n",
    "    \n",
    "    out1[\"risk\"] = \"low\"\n",
    "    out2[\"risk\"] = \"medium\"\n",
    "    out3[\"risk\"] = \"high\"\n",
    "    merged_df = pd.concat([out1, out2, out3])\n",
    "    merged_df = merged_df[[\"GPS經度\",\"GPS緯度\",'發生縣市名稱',\"肇因研判子類別名稱-主要\",'速限-第1當事者', '道路型態大類別名稱','事故位置大類別名稱', '號誌-號誌種類名稱',\"risk\"]]\n",
    "    merged_df.to_csv(\"risk_\"+str(combined[\"partition\"].value_counts(dropna=False).index[i])+\"_.csv\")\n"
   ]
  },
  {
   "cell_type": "code",
   "execution_count": 42,
   "metadata": {},
   "outputs": [],
   "source": [
    "#不同行政區\n",
    "list_1_new = [\"新營區\",\"鹽水區\",\"柳營區\",\"白河區\",\"東山區\",\"後壁區\"]\n",
    "list_2_new = [\"善化區\",\"新市區\",\"大內區\",\"安定區\",\"玉井區\",\"南化區\",\"楠西區\",\"麻豆區\",\"下營區\",\"官田區\",\"六甲區\"]\n",
    "list_3 = [\"新化區\",\"左鎮區\",\"山上區\",\"歸仁區\",\"關廟區\",\"仁德區\",\"龍崎區\"]\n",
    "list_4 = [\"永康區\"]\n",
    "list_5_new = [\"學甲區\",\"將軍區\",\"北門區\",\"佳里區\",\"西港區\",\"七股區\"]\n",
    "list_6_new = [\"安平區\",\"南區\",\"中西區\",\"安南區\"]\n",
    "list_7 = [\"東區\",\"北區\"]\n"
   ]
  },
  {
   "cell_type": "code",
   "execution_count": 222,
   "metadata": {},
   "outputs": [],
   "source": [
    "risk_1 = pd.read_csv(\"risk_1_.csv\")\n",
    "risk_2 = pd.read_csv(\"risk_2_.csv\")\n",
    "risk_3 = pd.read_csv(\"risk_3_.csv\")\n",
    "risk_4 = pd.read_csv(\"risk_4_.csv\")\n",
    "risk_5 = pd.read_csv(\"risk_5_.csv\")\n",
    "risk_6 = pd.read_csv(\"risk_6_.csv\")\n",
    "risk_7 = pd.read_csv(\"risk_7_.csv\")"
   ]
  },
  {
   "cell_type": "code",
   "execution_count": 224,
   "metadata": {},
   "outputs": [],
   "source": [
    "#調整呈現內容\n",
    "risk_4.drop(risk_4[risk_4.risk == \"low\"].index).to_csv(\"risk_4_.csv\")\n",
    "risk_6.drop(risk_6[risk_6.risk == \"low\"].index).to_csv(\"risk_6_.csv\")\n",
    "risk_7.drop(risk_7[risk_7.risk == \"low\"].index).to_csv(\"risk_7_.csv\")"
   ]
  },
  {
   "cell_type": "code",
   "execution_count": null,
   "metadata": {},
   "outputs": [],
   "source": []
  }
 ],
 "metadata": {
  "kernelspec": {
   "display_name": "Python 3",
   "language": "python",
   "name": "python3"
  },
  "language_info": {
   "codemirror_mode": {
    "name": "ipython",
    "version": 3
   },
   "file_extension": ".py",
   "mimetype": "text/x-python",
   "name": "python",
   "nbconvert_exporter": "python",
   "pygments_lexer": "ipython3",
   "version": "3.8.5"
  }
 },
 "nbformat": 4,
 "nbformat_minor": 4
}
